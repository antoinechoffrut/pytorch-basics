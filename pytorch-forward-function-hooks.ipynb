{
 "cells": [
  {
   "cell_type": "markdown",
   "metadata": {},
   "source": [
    "# Pytorch forward function hooks\n",
    "Basic usage examples of `PyTorch` forward hooks.\n",
    "\n",
    "# References\n",
    "- [Forward and backward function hooks](https://pytorch.org/tutorials/beginner/former_torchies/nnft_tutorial.html#forward-and-backward-function-hooks) (pytorch documentation)\n",
    "- [PyTorch's `torch.nn.Module.forward()`](https://pytorch.org/docs/stable/nn.html#torch.nn.Module.forward) (pytorch documentation)\n",
    "- [Why is the input of hook function a tuple?](https://discuss.pytorch.org/t/why-is-the-input-of-hook-function-a-tuple/54229) (MahdiNazemi)\n",
    "- [In neural network literature, which one is activation?](https://stats.stackexchange.com/questions/272035/in-neural-network-literature-which-one-is-activation) (stats.stackexchange)\n",
    "- [What does the activation of a neuron mean?](https://datascience.stackexchange.com/questions/11059/what-does-the-activation-of-a-neuron-mean) (datascience.stackexchange)\n",
    "\n",
    "---\n",
    "tags: pytorch, tutorial, forward hooks"
   ]
  },
  {
   "cell_type": "markdown",
   "metadata": {},
   "source": [
    "# Imports"
   ]
  },
  {
   "cell_type": "code",
   "execution_count": 1,
   "metadata": {},
   "outputs": [],
   "source": [
    "import torch\n",
    "import torch.nn as nn\n",
    "import matplotlib.pyplot as plt\n",
    "%matplotlib inline"
   ]
  },
  {
   "cell_type": "markdown",
   "metadata": {},
   "source": [
    "# Print input and ouput information of a linear module"
   ]
  },
  {
   "cell_type": "code",
   "execution_count": 3,
   "metadata": {},
   "outputs": [
    {
     "name": "stdout",
     "output_type": "stream",
     "text": [
      "Input type: <class 'tuple'>\n",
      "Input len: 1\n",
      "Input[0] type: <class 'torch.Tensor'>\n",
      "Input[0] shape: torch.Size([10, 1])\n",
      "Output type: <class 'torch.Tensor'>\n",
      "Output shape: torch.Size([10, 2])\n"
     ]
    }
   ],
   "source": [
    "class SingleLinear(nn.Module):\n",
    "    def __init__(self):\n",
    "        super(SingleLinear, self).__init__()\n",
    "        self.linear = nn.Linear(1, 2)\n",
    "           \n",
    "    def forward(self, x):\n",
    "        x = self.linear(x)\n",
    "        return x\n",
    "    \n",
    "    \n",
    "def print_sizes(self, input, output):\n",
    "    print(f\"Input type: {type(input)}\")\n",
    "    print(f\"Input len: {len(input)}\")   \n",
    "    print(f\"Input[0] type: {type(input[0])}\")\n",
    "    print(f\"Input[0] shape: {input[0].shape}\")\n",
    "    print(f\"Output type: {type(output)}\")\n",
    "    print(f\"Output shape: {output.shape}\")\n",
    "    \n",
    "model = SingleLinear()\n",
    "model.linear.register_forward_hook(print_sizes)\n",
    "\n",
    "x = torch.linspace(0, 1, 10).view(-1, 1)\n",
    "# x = torch.randn(1)\n",
    "y = model(x)\n"
   ]
  },
  {
   "cell_type": "markdown",
   "metadata": {},
   "source": [
    "# Print input and output dimensions of linear submodules"
   ]
  },
  {
   "cell_type": "code",
   "execution_count": 4,
   "metadata": {},
   "outputs": [
    {
     "name": "stdout",
     "output_type": "stream",
     "text": [
      "Input  dimension  : 1\n",
      "Output dimension  : 2\n",
      "Input  dimension  : 2\n",
      "Output dimension  : 3\n",
      "Input  dimension  : 3\n",
      "Output dimension  : 4\n"
     ]
    }
   ],
   "source": [
    "class ListOfLinears(nn.Module):\n",
    "    def __init__(self, depth=1):\n",
    "        super(ListOfLinears, self).__init__()\n",
    "        self.linears = nn.ModuleList([nn.Linear(i, i+1) for i in range(1, depth+1)])\n",
    "           \n",
    "    def forward(self, x):\n",
    "        for linear in self.linears:\n",
    "            x = linear(x)\n",
    "        return x\n",
    "    \n",
    "def print_sizes(self, input, output):\n",
    "    print(f\"Input  dimension  : {input[0].shape[1]}\")\n",
    "    print(f\"Output dimension  : {output.shape[1]}\")\n",
    "    \n",
    "depth = 3\n",
    "model = ListOfLinears(depth)\n",
    "\n",
    "for linear in model.linears:\n",
    "    linear.register_forward_hook(print_sizes)\n",
    "\n",
    "x = torch.linspace(0, 1, 10).view(-1, 1)\n",
    "# x = torch.randn(1,1)\n",
    "y = model(x)"
   ]
  },
  {
   "cell_type": "markdown",
   "metadata": {},
   "source": [
    "# Record weights and biases of linear submodules"
   ]
  },
  {
   "cell_type": "code",
   "execution_count": 10,
   "metadata": {},
   "outputs": [
    {
     "data": {
      "text/plain": [
       "({'(Layer 0) Weight:': tensor([[0.9237]]),\n",
       "  '(Layer 1) Weight:': tensor([[0.7996]]),\n",
       "  '(Layer 2) Weight:': tensor([[-0.7495]]),\n",
       "  '(Layer 3) Weight:': tensor([[-0.8520]])},\n",
       " {'(Layer 0) Bias:': tensor([0.2656]),\n",
       "  '(Layer 1) Bias:': tensor([-0.1786]),\n",
       "  '(Layer 2) Bias:': tensor([0.5813]),\n",
       "  '(Layer 3) Bias:': tensor([-0.8994])})"
      ]
     },
     "execution_count": 10,
     "metadata": {},
     "output_type": "execute_result"
    }
   ],
   "source": [
    "class ListOfLinears(nn.Module):\n",
    "    def __init__(self, depth=1):\n",
    "        super(ListOfLinears, self).__init__()\n",
    "        self.linears = nn.ModuleList([nn.Linear(1, 1) for _ in range(1, depth+1)])\n",
    "           \n",
    "    def forward(self, x):\n",
    "        for linear in self.linears:\n",
    "            x = linear(x)\n",
    "        return x\n",
    "\n",
    "\n",
    "weights = {}\n",
    "biases = {}\n",
    "\n",
    "def get_weight(idx):\n",
    "    def hook(linear, input, output):\n",
    "        weights[f\"(Layer {idx}) Weight:\"] = linear.weight.data\n",
    "    return hook\n",
    "\n",
    "def get_bias(idx):\n",
    "    def hook(linear, input, output):\n",
    "        biases[f\"(Layer {idx}) Bias:\"] = linear.bias.data\n",
    "    return hook\n",
    "\n",
    "\n",
    "\n",
    "model = ListOfLinears(4)\n",
    "\n",
    "for idx, linear in enumerate(model.linears):\n",
    "    linear.register_forward_hook(get_weight(idx))\n",
    "    linear.register_forward_hook(get_bias(idx))\n",
    "\n",
    "x = torch.randn(1, 1)\n",
    "y = model(x)\n",
    "\n",
    "weights, biases"
   ]
  },
  {
   "cell_type": "code",
   "execution_count": null,
   "metadata": {},
   "outputs": [],
   "source": []
  }
 ],
 "metadata": {
  "kernelspec": {
   "display_name": "Python 3",
   "language": "python",
   "name": "python3"
  },
  "language_info": {
   "codemirror_mode": {
    "name": "ipython",
    "version": 3
   },
   "file_extension": ".py",
   "mimetype": "text/x-python",
   "name": "python",
   "nbconvert_exporter": "python",
   "pygments_lexer": "ipython3",
   "version": "3.7.4"
  }
 },
 "nbformat": 4,
 "nbformat_minor": 4
}
