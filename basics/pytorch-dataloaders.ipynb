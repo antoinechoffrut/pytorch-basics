{
 "cells": [
  {
   "cell_type": "markdown",
   "metadata": {},
   "source": [
    "# PyTorch's datasets and dataloaders\n",
    "\n",
    "Basic usage example of `PyTorch` `DataLoader`s; extracted from Aakash's post.\n",
    "\n",
    "# Reference\n",
    "- [Linear regression with pytorch](https://medium.com/jovianml/linear-regression-with-pytorch-3dde91d60b50) (Aakash N S)\n",
    "- [PyTorch `TensorDataset`](https://pytorch.org/docs/stable/_modules/torch/utils/data/dataset.html#TensorDataset) (pytorch documentation)\n",
    "- [PyTorch `DataLoader`\n",
    "](https://pytorch.org/docs/stable/data.html#torch.utils.data.DataLoader) (pytorch documentation)\n",
    "\n",
    "---\n",
    "tags: pytorch, tutorial, dataset, dataloader"
   ]
  },
  {
   "cell_type": "markdown",
   "metadata": {},
   "source": [
    "# Imports"
   ]
  },
  {
   "cell_type": "code",
   "execution_count": 1,
   "metadata": {},
   "outputs": [],
   "source": [
    "import torch\n",
    "from torch.utils.data import TensorDataset, DataLoader"
   ]
  },
  {
   "cell_type": "markdown",
   "metadata": {},
   "source": [
    "# Data, dataset, dataloader"
   ]
  },
  {
   "cell_type": "code",
   "execution_count": 2,
   "metadata": {},
   "outputs": [],
   "source": [
    "# Number of samples\n",
    "n_batches = 5\n",
    "batch_size = 4\n",
    "N = (n_batches - 1)*batch_size + batch_size//2 # size of dataset\n",
    "\n",
    "# Data\n",
    "x = torch.tensor([range(N), range(N)], dtype=float).view(N, -1)\n",
    "y = x.sum(1)\n",
    "\n",
    "# Dataset\n",
    "ds = TensorDataset(x, y)\n",
    "\n",
    "# Dataloader\n",
    "dl = DataLoader(ds, batch_size, shuffle=False)"
   ]
  },
  {
   "cell_type": "markdown",
   "metadata": {},
   "source": [
    "# Get one batch from dataloader\n",
    "Note that with the argument `shuffle` set to `False`, we will always get the first batch:"
   ]
  },
  {
   "cell_type": "code",
   "execution_count": 3,
   "metadata": {},
   "outputs": [
    {
     "name": "stdout",
     "output_type": "stream",
     "text": [
      "tensor([[0., 1.],\n",
      "        [2., 3.],\n",
      "        [4., 5.],\n",
      "        [6., 7.]], dtype=torch.float64)\n",
      "tensor([ 1.,  5.,  9., 13.], dtype=torch.float64)\n"
     ]
    }
   ],
   "source": [
    "for batch in dl:\n",
    "    break\n",
    "print(batch[0])\n",
    "print(batch[1])"
   ]
  },
  {
   "cell_type": "markdown",
   "metadata": {},
   "source": [
    "Alternatively:"
   ]
  },
  {
   "cell_type": "code",
   "execution_count": 4,
   "metadata": {},
   "outputs": [
    {
     "data": {
      "text/plain": [
       "[tensor([[0., 1.],\n",
       "         [2., 3.],\n",
       "         [4., 5.],\n",
       "         [6., 7.]], dtype=torch.float64),\n",
       " tensor([ 1.,  5.,  9., 13.], dtype=torch.float64)]"
      ]
     },
     "execution_count": 4,
     "metadata": {},
     "output_type": "execute_result"
    }
   ],
   "source": [
    "next(iter(dl))"
   ]
  },
  {
   "cell_type": "code",
   "execution_count": 5,
   "metadata": {},
   "outputs": [
    {
     "data": {
      "text/plain": [
       "[tensor([[0., 1.],\n",
       "         [2., 3.],\n",
       "         [4., 5.],\n",
       "         [6., 7.]], dtype=torch.float64),\n",
       " tensor([ 1.,  5.,  9., 13.], dtype=torch.float64)]"
      ]
     },
     "execution_count": 5,
     "metadata": {},
     "output_type": "execute_result"
    }
   ],
   "source": [
    "next(iter(dl))"
   ]
  },
  {
   "cell_type": "markdown",
   "metadata": {},
   "source": [
    "# Number of batches"
   ]
  },
  {
   "cell_type": "code",
   "execution_count": 6,
   "metadata": {},
   "outputs": [
    {
     "name": "stdout",
     "output_type": "stream",
     "text": [
      "There are 5 batches.\n"
     ]
    }
   ],
   "source": [
    "print(f\"There are {sum([1 for batch in dl])} batches.\")"
   ]
  },
  {
   "cell_type": "markdown",
   "metadata": {},
   "source": [
    "# Sizes of batches"
   ]
  },
  {
   "cell_type": "code",
   "execution_count": 7,
   "metadata": {},
   "outputs": [
    {
     "name": "stdout",
     "output_type": "stream",
     "text": [
      "Batch sizes:[4, 4, 4, 4, 2]\n"
     ]
    }
   ],
   "source": [
    "print(\"Batch sizes:\", end=\"\")\n",
    "print([xb.shape[0] for xb, _ in dl])"
   ]
  },
  {
   "cell_type": "markdown",
   "metadata": {},
   "source": [
    "# Inspect all batches"
   ]
  },
  {
   "cell_type": "code",
   "execution_count": 8,
   "metadata": {},
   "outputs": [
    {
     "data": {
      "text/plain": [
       "[[tensor([[0., 1.],\n",
       "          [2., 3.],\n",
       "          [4., 5.],\n",
       "          [6., 7.]], dtype=torch.float64),\n",
       "  tensor([ 1.,  5.,  9., 13.], dtype=torch.float64)],\n",
       " [tensor([[ 8.,  9.],\n",
       "          [10., 11.],\n",
       "          [12., 13.],\n",
       "          [14., 15.]], dtype=torch.float64),\n",
       "  tensor([17., 21., 25., 29.], dtype=torch.float64)],\n",
       " [tensor([[16., 17.],\n",
       "          [ 0.,  1.],\n",
       "          [ 2.,  3.],\n",
       "          [ 4.,  5.]], dtype=torch.float64),\n",
       "  tensor([33.,  1.,  5.,  9.], dtype=torch.float64)],\n",
       " [tensor([[ 6.,  7.],\n",
       "          [ 8.,  9.],\n",
       "          [10., 11.],\n",
       "          [12., 13.]], dtype=torch.float64),\n",
       "  tensor([13., 17., 21., 25.], dtype=torch.float64)],\n",
       " [tensor([[14., 15.],\n",
       "          [16., 17.]], dtype=torch.float64),\n",
       "  tensor([29., 33.], dtype=torch.float64)]]"
      ]
     },
     "execution_count": 8,
     "metadata": {},
     "output_type": "execute_result"
    }
   ],
   "source": [
    "[batch for batch in dl]"
   ]
  },
  {
   "cell_type": "markdown",
   "metadata": {},
   "source": [
    "# Dataloaders with shuffling"
   ]
  },
  {
   "cell_type": "code",
   "execution_count": 9,
   "metadata": {},
   "outputs": [
    {
     "data": {
      "text/plain": [
       "[[tensor([[10., 11.],\n",
       "          [ 2.,  3.],\n",
       "          [ 0.,  1.],\n",
       "          [ 8.,  9.]], dtype=torch.float64),\n",
       "  tensor([21.,  5.,  1., 17.], dtype=torch.float64)],\n",
       " [tensor([[10., 11.],\n",
       "          [12., 13.],\n",
       "          [ 2.,  3.],\n",
       "          [14., 15.]], dtype=torch.float64),\n",
       "  tensor([21., 25.,  5., 29.], dtype=torch.float64)],\n",
       " [tensor([[ 0.,  1.],\n",
       "          [ 6.,  7.],\n",
       "          [16., 17.],\n",
       "          [ 4.,  5.]], dtype=torch.float64),\n",
       "  tensor([ 1., 13., 33.,  9.], dtype=torch.float64)],\n",
       " [tensor([[14., 15.],\n",
       "          [ 6.,  7.],\n",
       "          [ 4.,  5.],\n",
       "          [ 8.,  9.]], dtype=torch.float64),\n",
       "  tensor([29., 13.,  9., 17.], dtype=torch.float64)],\n",
       " [tensor([[16., 17.],\n",
       "          [12., 13.]], dtype=torch.float64),\n",
       "  tensor([33., 25.], dtype=torch.float64)]]"
      ]
     },
     "execution_count": 9,
     "metadata": {},
     "output_type": "execute_result"
    }
   ],
   "source": [
    "dl = DataLoader(ds, batch_size, shuffle=True)\n",
    "[batch for batch in dl]"
   ]
  },
  {
   "cell_type": "markdown",
   "metadata": {},
   "source": [
    "Inspect one batch with the following will produce a different batch each time:"
   ]
  },
  {
   "cell_type": "code",
   "execution_count": 10,
   "metadata": {},
   "outputs": [
    {
     "data": {
      "text/plain": [
       "[tensor([[10., 11.],\n",
       "         [16., 17.],\n",
       "         [ 2.,  3.],\n",
       "         [ 2.,  3.]], dtype=torch.float64),\n",
       " tensor([21., 33.,  5.,  5.], dtype=torch.float64)]"
      ]
     },
     "execution_count": 10,
     "metadata": {},
     "output_type": "execute_result"
    }
   ],
   "source": [
    "next(iter(dl))"
   ]
  },
  {
   "cell_type": "code",
   "execution_count": 11,
   "metadata": {},
   "outputs": [
    {
     "data": {
      "text/plain": [
       "[tensor([[ 8.,  9.],\n",
       "         [14., 15.],\n",
       "         [ 6.,  7.],\n",
       "         [12., 13.]], dtype=torch.float64),\n",
       " tensor([17., 29., 13., 25.], dtype=torch.float64)]"
      ]
     },
     "execution_count": 11,
     "metadata": {},
     "output_type": "execute_result"
    }
   ],
   "source": [
    "next(iter(dl))"
   ]
  },
  {
   "cell_type": "markdown",
   "metadata": {},
   "source": [
    "# Drop last batch if incomplete"
   ]
  },
  {
   "cell_type": "code",
   "execution_count": 12,
   "metadata": {},
   "outputs": [
    {
     "name": "stdout",
     "output_type": "stream",
     "text": [
      "There are 4 batches.\n",
      "Batch sizes:[4, 4, 4, 4]\n"
     ]
    }
   ],
   "source": [
    "dl = DataLoader(ds, batch_size, drop_last=True, shuffle=False)\n",
    "print(f\"There are {sum([1 for _ in dl])} batches.\")\n",
    "print(\"Batch sizes:\", end=\"\")\n",
    "print([xb.shape[0] for xb, _ in dl])"
   ]
  }
 ],
 "metadata": {
  "kernelspec": {
   "display_name": "Python 3",
   "language": "python",
   "name": "python3"
  },
  "language_info": {
   "codemirror_mode": {
    "name": "ipython",
    "version": 3
   },
   "file_extension": ".py",
   "mimetype": "text/x-python",
   "name": "python",
   "nbconvert_exporter": "python",
   "pygments_lexer": "ipython3",
   "version": "3.7.4"
  }
 },
 "nbformat": 4,
 "nbformat_minor": 4
}
