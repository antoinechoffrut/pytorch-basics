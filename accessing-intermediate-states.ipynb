{
 "cells": [
  {
   "cell_type": "markdown",
   "metadata": {},
   "source": [
    "# Accessing intermediate states\n",
    "Construct a multi-layer perceptron (MLP) and record the states of its hidden layers via `PyTorch` (forward) hooks.\n",
    "\n",
    "For illustration purposes, all layers have width `1`.  The `depth` can be specfied.\n",
    "\n",
    "The weights and biases are set to specific values for easy inspection.\n",
    "\n",
    "# References\n",
    "- [Forward and backward function hooks](https://pytorch.org/tutorials/beginner/former_torchies/nnft_tutorial.html#forward-and-backward-function-hooks) (pytorch documentation)\n",
    "- [In neural network literature, which one is activation?](https://stats.stackexchange.com/questions/272035/in-neural-network-literature-which-one-is-activation) (stats.stackexchange)\n",
    "- [Code snippet example](https://discuss.pytorch.org/t/how-can-l-load-my-best-model-as-a-feature-extractor-evaluator/17254/6) (pytorch discuss)\n",
    "\n",
    "---\n",
    "tags: pytorch, tutorial, forward hooks, hidden layers"
   ]
  },
  {
   "cell_type": "markdown",
   "metadata": {},
   "source": [
    "# Imports"
   ]
  },
  {
   "cell_type": "code",
   "execution_count": 1,
   "metadata": {},
   "outputs": [],
   "source": [
    "import torch\n",
    "import torch.nn as nn"
   ]
  },
  {
   "cell_type": "markdown",
   "metadata": {},
   "source": [
    "# Record intermediate states"
   ]
  },
  {
   "cell_type": "code",
   "execution_count": 2,
   "metadata": {},
   "outputs": [
    {
     "data": {
      "text/plain": [
       "[('Activation 0', array([[-99.]], dtype=float32)),\n",
       " ('Activation 1', array([[1.]], dtype=float32)),\n",
       " ('Activation 2', array([[2.]], dtype=float32)),\n",
       " ('Activation 3', array([[3.]], dtype=float32)),\n",
       " ('Activation 4', array([[4.]], dtype=float32)),\n",
       " ('Activation 5', array([[5.]], dtype=float32)),\n",
       " ('Activation 6', array([[6.]], dtype=float32)),\n",
       " ('Activation 7', array([[7.]], dtype=float32)),\n",
       " ('Activation 8', array([[8.]], dtype=float32)),\n",
       " ('Activation 9', array([[9.]], dtype=float32)),\n",
       " ('Activation 10', array([[10.]], dtype=float32)),\n",
       " ('Activation 11', array([[10.12345]], dtype=float32))]"
      ]
     },
     "execution_count": 2,
     "metadata": {},
     "output_type": "execute_result"
    }
   ],
   "source": [
    "class MLP(nn.Module):\n",
    "    def __init__(self, depth=1):\n",
    "        super(MLP, self).__init__()\n",
    "        self.linears = nn.ModuleList([nn.Linear(1, 1) for _ in range(1, depth+1)])        \n",
    "        self.activs = nn.ModuleList([nn.ReLU() for _ in range(1, depth+1)])\n",
    "        self.out = nn.Linear(1, 1)\n",
    "        \n",
    "        for idx, linear in enumerate(self.linears):\n",
    "            linear.weight.data = torch.ones_like(linear.weight.data)\n",
    "            linear.bias.data = torch.ones_like(linear.bias.data)\n",
    "        self.out.weight.data = torch.ones_like(self.out.weight.data)\n",
    "        self.out.bias.data = .12345*torch.ones_like(self.out.bias.data)\n",
    "           \n",
    "    def forward(self, x):\n",
    "        for linear, activ  in zip(self.linears, self.activs):\n",
    "            x = activ(linear(x))\n",
    "        x = self.out(x)\n",
    "        return x\n",
    "\n",
    "\n",
    "activations = {}\n",
    "\n",
    "def get_activation(idx):\n",
    "    def hook(linear, input, output):\n",
    "        activations[f\"Activation {idx}\"] = output.detach().numpy()\n",
    "    return hook\n",
    "    \n",
    "depth = 11\n",
    "model = MLP(depth)\n",
    "\n",
    "for idx, linear in enumerate(model.linears):\n",
    "    linear.register_forward_hook(get_activation(idx))\n",
    "model.out.register_forward_hook(get_activation(depth))\n",
    "\n",
    "x = torch.tensor(-100.).view(-1, 1)\n",
    "y = model(x)\n",
    "\n",
    "sorted(activations.items(), key = lambda kv: int(kv[0].lstrip(\"Activation \")))"
   ]
  },
  {
   "cell_type": "code",
   "execution_count": null,
   "metadata": {},
   "outputs": [],
   "source": []
  }
 ],
 "metadata": {
  "kernelspec": {
   "display_name": "Python 3",
   "language": "python",
   "name": "python3"
  },
  "language_info": {
   "codemirror_mode": {
    "name": "ipython",
    "version": 3
   },
   "file_extension": ".py",
   "mimetype": "text/x-python",
   "name": "python",
   "nbconvert_exporter": "python",
   "pygments_lexer": "ipython3",
   "version": "3.7.4"
  }
 },
 "nbformat": 4,
 "nbformat_minor": 4
}
