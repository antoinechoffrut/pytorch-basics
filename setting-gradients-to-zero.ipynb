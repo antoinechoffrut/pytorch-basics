{
 "cells": [
  {
   "cell_type": "markdown",
   "metadata": {},
   "source": [
    "# Resetting (or not) gradients to zero\n",
    "A minimal example showing the effect of not resetting gradients to zero, from [this answer](https://discuss.pytorch.org/t/why-do-we-need-to-set-the-gradients-manually-to-zero-in-pytorch/4903/12) to the question \"Why do we need to set the gradients to zero in pytorch?\" on the pytorch forum.\n",
    "\n",
    "---\n",
    "tags: pytorch, tutorial, deep learning, gradients, automatic differentiation"
   ]
  },
  {
   "cell_type": "code",
   "execution_count": 1,
   "metadata": {},
   "outputs": [
    {
     "name": "stdout",
     "output_type": "stream",
     "text": [
      "Not resetting gradients to zero:\n",
      "tensor([1.])\n",
      "tensor([2.])\n",
      "tensor([3.])\n",
      "\n",
      "Resetting gradients to zero:\n",
      "tensor([1.])\n",
      "tensor([1.])\n",
      "tensor([1.])\n"
     ]
    }
   ],
   "source": [
    "import torch\n",
    "\n",
    "x = torch.tensor([0.], requires_grad=True)\n",
    "\n",
    "print('Not resetting gradients to zero:')\n",
    "for _ in range(3):\n",
    "    y = x.sin()\n",
    "    y.backward()\n",
    "    print(x.grad)\n",
    "    \n",
    "print('\\nResetting gradients to zero:')\n",
    "    \n",
    "for t in range(3):\n",
    "    if x.grad is not None:\n",
    "        x.grad.data.zero_()\n",
    "    y = x.sin() \n",
    "    y.backward()\n",
    "    print(x.grad)"
   ]
  },
  {
   "cell_type": "code",
   "execution_count": null,
   "metadata": {},
   "outputs": [],
   "source": []
  }
 ],
 "metadata": {
  "kernelspec": {
   "display_name": "Python 3",
   "language": "python",
   "name": "python3"
  },
  "language_info": {
   "codemirror_mode": {
    "name": "ipython",
    "version": 3
   },
   "file_extension": ".py",
   "mimetype": "text/x-python",
   "name": "python",
   "nbconvert_exporter": "python",
   "pygments_lexer": "ipython3",
   "version": "3.7.4"
  }
 },
 "nbformat": 4,
 "nbformat_minor": 4
}
